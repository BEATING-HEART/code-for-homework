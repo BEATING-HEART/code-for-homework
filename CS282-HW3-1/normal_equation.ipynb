{
 "cells": [
  {
   "cell_type": "code",
   "execution_count": null,
   "metadata": {},
   "outputs": [],
   "source": [
    "import pandas as pd\n",
    "import numpy as np\n",
    "import scipy as sp\n",
    "import matplotlib.pyplot as plt\n",
    "\n",
    "reader = pd.read_csv('data/data_set.csv', iterator=True)\n",
    "\n",
    "TRAINING_SIZE = 5\n",
    "\n",
    "train_data = reader.get_chunk(TRAINING_SIZE).to_numpy()\n",
    "print(train_data) # ok"
   ]
  },
  {
   "cell_type": "code",
   "execution_count": null,
   "metadata": {},
   "outputs": [],
   "source": [
    "x, Y = np.split(train_data, (4,), axis=1)\n",
    "print(x) # ok\n",
    "print(Y)"
   ]
  },
  {
   "cell_type": "code",
   "execution_count": null,
   "metadata": {},
   "outputs": [],
   "source": [
    "X = np.insert(x, 0, np.ones(len(x)), axis=1)\n",
    "print(X)"
   ]
  },
  {
   "cell_type": "code",
   "execution_count": null,
   "metadata": {},
   "outputs": [],
   "source": [
    "theta = np.linalg.pinv(np.dot(X.T, X)).dot(X.T).dot(Y)\n",
    "print(theta)\n",
    "\n",
    "loss = np.linalg.norm(X.dot(theta)-Y)\n",
    "print(loss)"
   ]
  },
  {
   "cell_type": "code",
   "execution_count": null,
   "metadata": {},
   "outputs": [],
   "source": [
    "test_set = reader.get_chunk(500)\n",
    "test_y = test_set.iloc[:, 4].to_numpy()\n",
    "print(test_y)"
   ]
  },
  {
   "cell_type": "code",
   "execution_count": null,
   "metadata": {},
   "outputs": [],
   "source": [
    "test_x = np.insert(test_set.iloc[:, :4].to_numpy(), 0, np.ones(len(test_set)), axis=1)\n",
    "print(test_x)"
   ]
  },
  {
   "cell_type": "code",
   "execution_count": null,
   "metadata": {},
   "outputs": [],
   "source": [
    "test_pred = test_x.dot(theta)"
   ]
  },
  {
   "cell_type": "code",
   "execution_count": null,
   "metadata": {},
   "outputs": [],
   "source": [
    "# plt.figure(figsize=(8, 4))  # figsize:确定画布大小 \n",
    "\n",
    "# plt.scatter(test_pred, test_y, c=\"blue\", label = 'test data' )\n",
    "# plt.scatter(X.dot(theta), Y, c='red', label='training data') \n",
    "\n",
    "# t = np.linspace(400, 500, 200)\n",
    "# plt.plot(t, t, 'r', label='y=x')\n",
    "# plt.xlabel(u'predicted value', fontsize=18)\n",
    "# plt.ylabel(u'true value', fontsize=18)\n",
    "\n",
    "# plt.legend()  # 显示图例\n",
    "\n",
    "# plt.show()  # 显示所绘图形"
   ]
  },
  {
   "cell_type": "code",
   "execution_count": null,
   "metadata": {},
   "outputs": [],
   "source": [
    "test_pred_mean = np.mean(test_pred)\n",
    "# print(test_pred_mean)\n",
    "\n",
    "# test_pred_mean_arr = np.full_like(test_pred, test_pred_mean)\n",
    "\n",
    "_var = np.square(np.linalg.norm(test_pred - test_pred_mean))\n",
    "\n",
    "bias = np.square(np.linalg.norm(test_y - test_pred_mean))\n",
    "# print(test_pred_mean_arr)\n",
    "# print(test_y.flatten())\n",
    "print(_var)\n",
    "print(bias)"
   ]
  }
 ],
 "metadata": {
  "kernelspec": {
   "display_name": "Python 3.8.15 ('car38')",
   "language": "python",
   "name": "python3"
  },
  "language_info": {
   "codemirror_mode": {
    "name": "ipython",
    "version": 3
   },
   "file_extension": ".py",
   "mimetype": "text/x-python",
   "name": "python",
   "nbconvert_exporter": "python",
   "pygments_lexer": "ipython3",
   "version": "3.8.15"
  },
  "orig_nbformat": 4,
  "vscode": {
   "interpreter": {
    "hash": "9a43cbd6c1ef2384b5f3316347ea8c5410f2f4d6d7ad6c251c5559a195daba72"
   }
  }
 },
 "nbformat": 4,
 "nbformat_minor": 2
}
