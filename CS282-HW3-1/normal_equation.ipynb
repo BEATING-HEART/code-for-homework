{
 "cells": [
  {
   "cell_type": "code",
   "execution_count": 1,
   "metadata": {},
   "outputs": [
    {
     "name": "stdout",
     "output_type": "stream",
     "text": [
      "[[  14.96   41.76 1024.07   73.17  463.26]\n",
      " [  25.18   62.96 1020.04   59.08  444.37]\n",
      " [   5.11   39.4  1012.16   92.14  488.56]\n",
      " [  20.86   57.32 1010.24   76.64  446.48]\n",
      " [  10.82   37.5  1009.23   96.62  473.9 ]]\n"
     ]
    }
   ],
   "source": [
    "import pandas as pd\n",
    "import numpy as np\n",
    "import matplotlib.pyplot as plt\n",
    "\n",
    "reader = pd.read_csv('data/data_set.csv', iterator=True)\n",
    "\n",
    "TRAINING_SIZE = 5\n",
    "\n",
    "train_data = reader.get_chunk(TRAINING_SIZE).to_numpy()\n",
    "print(train_data) # ok"
   ]
  },
  {
   "cell_type": "code",
   "execution_count": 2,
   "metadata": {},
   "outputs": [
    {
     "name": "stdout",
     "output_type": "stream",
     "text": [
      "[[  14.96   41.76 1024.07   73.17]\n",
      " [  25.18   62.96 1020.04   59.08]\n",
      " [   5.11   39.4  1012.16   92.14]\n",
      " [  20.86   57.32 1010.24   76.64]\n",
      " [  10.82   37.5  1009.23   96.62]]\n",
      "[[463.26]\n",
      " [444.37]\n",
      " [488.56]\n",
      " [446.48]\n",
      " [473.9 ]]\n"
     ]
    }
   ],
   "source": [
    "x, Y = np.split(train_data, (4,), axis=1)\n",
    "print(x) # ok\n",
    "print(Y)"
   ]
  },
  {
   "cell_type": "code",
   "execution_count": 3,
   "metadata": {},
   "outputs": [
    {
     "name": "stdout",
     "output_type": "stream",
     "text": [
      "[[1.00000e+00 1.49600e+01 4.17600e+01 1.02407e+03 7.31700e+01]\n",
      " [1.00000e+00 2.51800e+01 6.29600e+01 1.02004e+03 5.90800e+01]\n",
      " [1.00000e+00 5.11000e+00 3.94000e+01 1.01216e+03 9.21400e+01]\n",
      " [1.00000e+00 2.08600e+01 5.73200e+01 1.01024e+03 7.66400e+01]\n",
      " [1.00000e+00 1.08200e+01 3.75000e+01 1.00923e+03 9.66200e+01]]\n"
     ]
    }
   ],
   "source": [
    "X = np.insert(x, 0, np.ones(len(x)), axis=1)\n",
    "print(X)"
   ]
  },
  {
   "cell_type": "code",
   "execution_count": 4,
   "metadata": {},
   "outputs": [
    {
     "name": "stdout",
     "output_type": "stream",
     "text": [
      "[[-2.09864076e+04]\n",
      " [-1.41759697e-01]\n",
      " [ 1.28294594e+01]\n",
      " [ 1.93522239e+01]\n",
      " [ 1.50061243e+01]]\n",
      "8.940356943027699e-06\n"
     ]
    }
   ],
   "source": [
    "theta = np.linalg.pinv(np.dot(X.T, X)).dot(X.T).dot(Y)\n",
    "print(theta)\n",
    "\n",
    "loss = np.linalg.norm(X.dot(theta)-Y)\n",
    "print(loss)"
   ]
  },
  {
   "cell_type": "code",
   "execution_count": 5,
   "metadata": {},
   "outputs": [
    {
     "name": "stdout",
     "output_type": "stream",
     "text": [
      "[443.67 467.35 478.42 475.98 477.5  453.02 453.99 440.29 451.28 433.99\n",
      " 462.19 467.54 477.2  459.85 464.3  468.27 495.24 483.8  443.61 436.06\n",
      " 443.25 464.16 475.52 484.41 437.89 445.11 438.86 440.98 436.65 444.26\n",
      " 465.86 444.37 450.69 469.02 448.86 447.14 469.18 482.8  476.7  474.99\n",
      " 444.22 461.33 448.06 474.6  473.05 432.06 467.41 430.12 473.62 471.81\n",
      " 442.99 442.77 491.49 447.46 446.11 442.44 446.22 471.49 463.5  440.01\n",
      " 441.03 452.68 474.91 478.77 434.2  437.91 477.61 431.65 430.57 481.09\n",
      " 445.56 475.74 435.12 446.15 436.64 436.69 468.75 466.6  465.48 441.34\n",
      " 441.83 464.7  437.99 459.12 429.69 459.8  433.63 442.84 485.13 459.12\n",
      " 445.31 480.8  432.55 443.86 449.77 470.71 452.17 478.29 428.54 478.27\n",
      " 439.58 457.32 475.51 439.66 471.99 479.81 434.78 446.58 437.76 459.36\n",
      " 462.28 464.33 444.36 438.64 470.49 455.13 450.22 440.43 482.98 460.44\n",
      " 444.97 433.94 439.73 434.48 442.33 457.67 454.66 432.21 457.66 435.21\n",
      " 448.22 475.51 446.53 441.3  433.54 472.52 474.77 435.1  450.74 442.7\n",
      " 426.56 463.71 447.06 452.27 445.78 438.65 480.15 447.19 443.04 488.81\n",
      " 455.75 455.86 457.68 479.11 432.84 448.37 447.06 443.53 445.21 441.7\n",
      " 450.93 451.44 441.29 458.85 481.46 467.19 461.54 439.08 467.22 468.8\n",
      " 426.93 474.65 468.97 433.97 450.53 444.51 469.03 466.56 457.57 440.13\n",
      " 433.24 452.55 443.29 431.76 454.97 456.7  486.03 472.79 452.03 443.41\n",
      " 441.93 432.64 480.25 466.68 494.39 454.72 448.71 469.76 450.71 444.01\n",
      " 453.2  450.87 441.73 465.09 447.28 491.16 450.98 446.3  436.48 460.84\n",
      " 442.56 467.3  479.13 441.15 445.52 475.4  469.3  463.57 445.32 461.03\n",
      " 466.74 444.04 434.01 465.23 440.6  466.74 433.48 473.59 474.81 454.75\n",
      " 452.94 435.83 482.19 466.66 462.59 447.82 462.73 447.98 462.72 442.42\n",
      " 444.69 466.7  453.84 436.92]\n"
     ]
    }
   ],
   "source": [
    "test_set = reader.get_chunk(500)\n",
    "test_y = test_set.iloc[:, 4].to_numpy()\n",
    "print(test_y)"
   ]
  },
  {
   "cell_type": "code",
   "execution_count": 6,
   "metadata": {},
   "outputs": [
    {
     "name": "stdout",
     "output_type": "stream",
     "text": [
      "[[1.00000e+00 2.62700e+01 5.94400e+01 1.01223e+03 5.87700e+01]\n",
      " [1.00000e+00 1.58900e+01 4.39600e+01 1.01402e+03 7.52400e+01]\n",
      " [1.00000e+00 9.48000e+00 4.47100e+01 1.01912e+03 6.64300e+01]\n",
      " ...\n",
      " [1.00000e+00 1.40100e+01 3.90000e+01 1.01673e+03 7.92300e+01]\n",
      " [1.00000e+00 1.94000e+01 6.46300e+01 1.02038e+03 8.11000e+01]\n",
      " [1.00000e+00 3.01500e+01 6.73200e+01 1.01383e+03 3.28000e+01]]\n"
     ]
    }
   ],
   "source": [
    "test_x = np.insert(test_set.iloc[:, :4].to_numpy(), 0, np.ones(len(test_set)), axis=1)\n",
    "print(test_x)"
   ]
  },
  {
   "cell_type": "code",
   "execution_count": 7,
   "metadata": {},
   "outputs": [],
   "source": [
    "test_pred = test_x.dot(theta)"
   ]
  },
  {
   "cell_type": "code",
   "execution_count": 8,
   "metadata": {},
   "outputs": [],
   "source": [
    "# plt.figure(figsize=(8, 4))  # figsize:确定画布大小 \n",
    "\n",
    "# plt.scatter(test_pred, test_y, c=\"blue\", label = 'test data' )\n",
    "# plt.scatter(X.dot(theta), Y, c='red', label='training data') \n",
    "\n",
    "# t = np.linspace(400, 500, 200)\n",
    "# plt.plot(t, t, 'r', label='y=x')\n",
    "# plt.xlabel(u'predicted value', fontsize=18)\n",
    "# plt.ylabel(u'true value', fontsize=18)\n",
    "\n",
    "# plt.legend()  # 显示图例\n",
    "\n",
    "# plt.show()  # 显示所绘图形"
   ]
  },
  {
   "cell_type": "code",
   "execution_count": 9,
   "metadata": {},
   "outputs": [
    {
     "name": "stdout",
     "output_type": "stream",
     "text": [
      "3599848042.7098727\n",
      "218290658.79888767\n"
     ]
    }
   ],
   "source": [
    "test_pred_mean = np.mean(test_pred)\n",
    "# print(test_pred_mean)\n",
    "\n",
    "# test_pred_mean_arr = np.full_like(test_pred, test_pred_mean)\n",
    "\n",
    "_var = np.square(np.linalg.norm(test_pred - test_pred_mean))\n",
    "\n",
    "bias = np.square(np.linalg.norm(test_y - test_pred_mean))\n",
    "# print(test_pred_mean_arr)\n",
    "# print(test_y.flatten())\n",
    "print(_var)\n",
    "print(bias)"
   ]
  }
 ],
 "metadata": {
  "kernelspec": {
   "display_name": "Python 3.8.15 ('hw38')",
   "language": "python",
   "name": "python3"
  },
  "language_info": {
   "codemirror_mode": {
    "name": "ipython",
    "version": 3
   },
   "file_extension": ".py",
   "mimetype": "text/x-python",
   "name": "python",
   "nbconvert_exporter": "python",
   "pygments_lexer": "ipython3",
   "version": "3.8.15"
  },
  "orig_nbformat": 4,
  "vscode": {
   "interpreter": {
    "hash": "4941609764f30fcd6b2cdb1ef7b611d705270b585f61391d7dec41d684fa3874"
   }
  }
 },
 "nbformat": 4,
 "nbformat_minor": 2
}
