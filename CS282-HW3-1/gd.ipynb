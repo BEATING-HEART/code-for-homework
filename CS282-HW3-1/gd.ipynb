{
 "cells": [
  {
   "cell_type": "code",
   "execution_count": 30,
   "metadata": {},
   "outputs": [
    {
     "name": "stdout",
     "output_type": "stream",
     "text": [
      "        AT      V       AP     RH      EP\n",
      "0    14.96  41.76  1024.07  73.17  463.26\n",
      "1    25.18  62.96  1020.04  59.08  444.37\n",
      "2     5.11  39.40  1012.16  92.14  488.56\n",
      "3    20.86  57.32  1010.24  76.64  446.48\n",
      "4    10.82  37.50  1009.23  96.62  473.90\n",
      "..     ...    ...      ...    ...     ...\n",
      "244  24.78  58.46  1016.82  67.50  442.42\n",
      "245  23.20  48.41  1008.64  80.92  444.69\n",
      "246  14.01  39.00  1016.73  79.23  466.70\n",
      "247  19.40  64.63  1020.38  81.10  453.84\n",
      "248  30.15  67.32  1013.83  32.80  436.92\n",
      "\n",
      "[249 rows x 5 columns]\n"
     ]
    }
   ],
   "source": [
    "import pandas as pd\n",
    "import numpy as np\n",
    "\n",
    "def get_cost(X, y, theta):\n",
    "    m = len(y)\n",
    "    # return (1/(2*m)) * np.square(np.linalg.norm(np.dot(train_x, theta) - train_y))\n",
    "    return np.square(np.linalg.norm(np.dot(X, theta) - y))\n",
    "\n",
    "\n",
    "data = pd.read_csv('data/data_set.csv')\n",
    "print(data)"
   ]
  },
  {
   "cell_type": "code",
   "execution_count": 31,
   "metadata": {},
   "outputs": [],
   "source": [
    "TRAIN_NUM = 5\n",
    "\n",
    "train_x = np.insert(data.iloc[:TRAIN_NUM,:4].to_numpy(), 0, np.ones(TRAIN_NUM), axis=1)\n",
    "train_y = data.iloc[:TRAIN_NUM,4:].to_numpy()\n",
    "# print(train_x)\n",
    "# print(train_y)"
   ]
  },
  {
   "cell_type": "code",
   "execution_count": 32,
   "metadata": {},
   "outputs": [],
   "source": [
    "test_x = np.insert(data.iloc[TRAIN_NUM:, :4].to_numpy(), 0, np.ones(249-TRAIN_NUM), axis=1)\n",
    "test_y = data.iloc[TRAIN_NUM:, 4:].to_numpy()\n",
    "# print(test_x)\n",
    "# print(test_y)"
   ]
  },
  {
   "cell_type": "code",
   "execution_count": 33,
   "metadata": {},
   "outputs": [
    {
     "name": "stdout",
     "output_type": "stream",
     "text": [
      "[[0.]\n",
      " [0.]\n",
      " [0.]\n",
      " [0.]\n",
      " [0.]]\n"
     ]
    }
   ],
   "source": [
    "theta = np.zeros(5).reshape(5,1)\n",
    "print(theta)"
   ]
  },
  {
   "cell_type": "code",
   "execution_count": 34,
   "metadata": {},
   "outputs": [],
   "source": [
    "cost = np.square(np.linalg.norm(np.dot(train_x, theta) - train_y))\n",
    "# tmp = np.dot(train_x, theta) - train_y\n",
    "# print(tmp)\n",
    "\n",
    "# print(cost)\n",
    "# print(get_cost(train_x, train_y, theta))"
   ]
  },
  {
   "cell_type": "code",
   "execution_count": 35,
   "metadata": {},
   "outputs": [
    {
     "name": "stdout",
     "output_type": "stream",
     "text": [
      "[[-2.31657000e+03]\n",
      " [-3.50573186e+04]\n",
      " [-1.09936020e+05]\n",
      " [-2.35151278e+06]\n",
      " [-1.85172477e+05]]\n"
     ]
    }
   ],
   "source": [
    "gradient = (train_x.T).dot(train_x.dot(theta)-train_y)\n",
    "print(gradient)"
   ]
  },
  {
   "cell_type": "code",
   "execution_count": 36,
   "metadata": {},
   "outputs": [
    {
     "name": "stdout",
     "output_type": "stream",
     "text": [
      "[[2.31657000e-03]\n",
      " [3.50573186e-02]\n",
      " [1.09936020e-01]\n",
      " [2.35151278e+00]\n",
      " [1.85172477e-01]]\n",
      "[[1963.52046997]\n",
      " [1973.01372267]\n",
      " [1913.121911  ]\n",
      " [1950.33903931]\n",
      " [1921.71285009]]\n",
      "[[-7.40513799e-03]\n",
      " [-1.15250492e-01]\n",
      " [-3.55516207e-01]\n",
      " [-7.51796878e+00]\n",
      " [-5.86488899e-01]]\n",
      "[[-8221.67759543]\n",
      " [-8172.94135626]\n",
      " [-8166.59004602]\n",
      " [-8109.1710137 ]\n",
      " [-8132.51246726]]\n",
      "[[3.33977545e-02]\n",
      " [5.12422836e-01]\n",
      " [1.59393998e+00]\n",
      " [3.39040120e+01]\n",
      " [2.65766845e+00]]\n",
      "[[34525.54530031]\n",
      " [34409.38407267]\n",
      " [34138.05542521]\n",
      " [34110.47992541]\n",
      " [34065.18047328]]\n",
      "[[-1.37850891e-01]\n",
      " [-2.12508294e+00]\n",
      " [-6.59195797e+00]\n",
      " [-1.39944059e+02]\n",
      " [-1.09525575e+01]]\n",
      "[[-144884.38024059]\n",
      " [-144308.66200548]\n",
      " [-143414.22742668]\n",
      " [-143085.28813628]\n",
      " [-143038.20829506]]\n",
      "[[5.80879875e-01]\n",
      " [8.94135872e+00]\n",
      " [2.77601892e+01]\n",
      " [5.89695373e+02]\n",
      " [4.61749835e+01]]\n",
      "[[608098.31315717]\n",
      " [605770.02198429]\n",
      " [601772.0942729 ]\n",
      " [600604.53590327]\n",
      " [600264.12155521]]\n"
     ]
    }
   ],
   "source": [
    "for i in range(5):\n",
    "    # theta -= 0.1 * np.ones(5).reshape(5,1)\n",
    "    theta =  theta - 0.000001 * (train_x.T).dot(train_x.dot(theta)-train_y)\n",
    "    print(theta)\n",
    "    print(train_x.dot(theta)-train_y)"
   ]
  }
 ],
 "metadata": {
  "kernelspec": {
   "display_name": "Python 3.8.15 ('hw38')",
   "language": "python",
   "name": "python3"
  },
  "language_info": {
   "codemirror_mode": {
    "name": "ipython",
    "version": 3
   },
   "file_extension": ".py",
   "mimetype": "text/x-python",
   "name": "python",
   "nbconvert_exporter": "python",
   "pygments_lexer": "ipython3",
   "version": "3.8.15"
  },
  "orig_nbformat": 4,
  "vscode": {
   "interpreter": {
    "hash": "4941609764f30fcd6b2cdb1ef7b611d705270b585f61391d7dec41d684fa3874"
   }
  }
 },
 "nbformat": 4,
 "nbformat_minor": 2
}
