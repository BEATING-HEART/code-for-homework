{
 "cells": [
  {
   "cell_type": "code",
   "execution_count": 11,
   "metadata": {},
   "outputs": [],
   "source": [
    "import pandas as pd\n",
    "import numpy as np\n",
    "from collections import Counter\n",
    "import matplotlib.pyplot as plt\n",
    "\n",
    "training_data = pd.read_csv('data/training_data.csv')\n",
    "\n",
    "training_x = training_data.iloc[:, 1:5].to_numpy()      # 105 rows and 4 columns.\n",
    "training_label = training_data.iloc[:, 5].to_numpy()    # 105 rows and 1 columns.\n",
    "\n",
    "def get_distance(instance1, instance2):\n",
    "    return np.linalg.norm(instance1 - instance2)\n",
    "\n",
    "def get_neighbors(instance, k):\n",
    "    distances = []\n",
    "    \n",
    "    for i in range(len(training_data)):\n",
    "        distances += [get_distance(training_x[i], instance)]\n",
    "    \n",
    "    distances = np.array(distances)\n",
    "    sorted_indices = np.argsort(distances)\n",
    "    \n",
    "    distances = np.array(distances)\n",
    "    neighbors = sorted_indices[:k]\n",
    "\n",
    "    return neighbors\n",
    "\n",
    "def get_class(neighbors):\n",
    "    neighbors_label = training_label[neighbors]\n",
    "    class_index = Counter(neighbors_label)\n",
    "    \n",
    "    # print(class_index)  \n",
    "    return (max(class_index.keys(), key=class_index.get))\n",
    "\n",
    "def get_accuracy(array1, array2):\n",
    "    # if array1[i] - array2[i] == 0 \n",
    "    # that means array1[i] == array2[i]\n",
    "    # it would be an accurate prediction.\n",
    "    difference_count = Counter(array1 - array2)\n",
    "    # print(difference_count[0])\n",
    "    # print(len(array1))\n",
    "    return difference_count[0] / len(array1)\n"
   ]
  },
  {
   "cell_type": "code",
   "execution_count": 12,
   "metadata": {},
   "outputs": [],
   "source": [
    "# test_data = [5.5, 2.3, 4, 1.3]\n",
    "\n",
    "# k = 30\n",
    "# neighbor = get_neighbors(test_data, k)\n",
    "# data_class = get_class(neighbor)\n",
    "# print(data_class)"
   ]
  },
  {
   "cell_type": "code",
   "execution_count": 15,
   "metadata": {},
   "outputs": [
    {
     "name": "stdout",
     "output_type": "stream",
     "text": [
      "[0.9777777777777777, 0.9777777777777777, 0.9777777777777777, 0.9777777777777777, 0.9777777777777777, 0.9777777777777777, 0.9777777777777777, 0.9777777777777777, 0.9777777777777777, 0.9777777777777777, 0.9555555555555556, 0.9555555555555556, 0.9555555555555556, 0.9555555555555556, 0.9555555555555556, 0.9555555555555556, 0.9555555555555556, 0.9555555555555556, 0.9555555555555556, 0.9555555555555556, 0.9555555555555556, 0.9555555555555556, 0.9555555555555556, 0.9555555555555556, 0.9333333333333333, 0.9555555555555556, 0.9555555555555556, 0.9555555555555556, 0.9555555555555556, 0.9555555555555556, 0.9555555555555556, 0.9555555555555556, 0.9555555555555556, 0.9555555555555556, 0.9333333333333333, 0.9333333333333333, 0.9333333333333333, 0.9333333333333333, 0.9111111111111111, 0.9111111111111111, 0.8888888888888888, 0.8888888888888888, 0.8888888888888888, 0.8888888888888888, 0.8888888888888888, 0.9111111111111111, 0.9111111111111111, 0.9111111111111111, 0.8888888888888888, 0.8888888888888888]\n",
      "\n"
     ]
    },
    {
     "data": {
      "image/png": "[encoded data removed]",
      "text/plain": [
       "<Figure size 800x400 with 1 Axes>"
      ]
     },
     "metadata": {},
     "output_type": "display_data"
    }
   ],
   "source": [
    "test_data = pd.read_csv('data/test_data.csv')\n",
    "\n",
    "test_x = test_data.iloc[:,1:5].to_numpy()\n",
    "test_labels = test_data.iloc[:,5].to_numpy()\n",
    "\n",
    "accuracy = []\n",
    "\n",
    "for k in range(1, 51):\n",
    "    pred_array = []\n",
    "    for item in test_x:\n",
    "        item_neighbors = get_neighbors(item, k)\n",
    "        item_class = get_class(item_neighbors)\n",
    "        pred_array.append(item_class)\n",
    "    # print(pred_array)\n",
    "    accuracy.append(get_accuracy(np.array(pred_array), test_labels))    \n",
    "print(accuracy)\n",
    "\n",
    "print()\n",
    "\n",
    "plt.figure(figsize=(8, 4))  # figsize:确定画布大小 \n",
    "\n",
    "plt.scatter(np.arange(1, 51), accuracy, c='red', label='accuracy') \n",
    "plt.xlabel(u'k', fontsize=18)\n",
    "plt.ylabel(u'accuracy', fontsize=18)\n",
    "\n",
    "plt.legend()  # 显示图例\n",
    "\n",
    "plt.show()  # 显示所绘图形\n"
   ]
  }
 ],
 "metadata": {
  "kernelspec": {
   "display_name": "Python 3.8.15 ('hw38')",
   "language": "python",
   "name": "python3"
  },
  "language_info": {
   "codemirror_mode": {
    "name": "ipython",
    "version": 3
   },
   "file_extension": ".py",
   "mimetype": "text/x-python",
   "name": "python",
   "nbconvert_exporter": "python",
   "pygments_lexer": "ipython3",
   "version": "3.8.15"
  },
  "orig_nbformat": 4,
  "vscode": {
   "interpreter": {
    "hash": "4941609764f30fcd6b2cdb1ef7b611d705270b585f61391d7dec41d684fa3874"
   }
  }
 },
 "nbformat": 4,
 "nbformat_minor": 2
}
